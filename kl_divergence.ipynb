{
 "cells": [
  {
   "cell_type": "code",
   "execution_count": 12,
   "metadata": {},
   "outputs": [],
   "source": [
    "import numpy as np\n",
    "from torch.nn import functional as F\n",
    "import torch\n",
    "from scipy.special import kl_div"
   ]
  },
  {
   "cell_type": "code",
   "execution_count": 17,
   "metadata": {},
   "outputs": [],
   "source": [
    "case_data = np.load('case_data.npz')\n",
    "torch_output = case_data['logits']\n",
    "trt_output_int8 = np.load('trt_outputs_int8.npz')['data']\n",
    "trt_output_fp16 = np.load('trt_outputs_fp16.npz')['data']\n",
    "trt_output_fp16_kernel = np.load('trt_outputs_fp16_kernel.npz')['data']"
   ]
  },
  {
   "cell_type": "code",
   "execution_count": 18,
   "metadata": {},
   "outputs": [],
   "source": [
    "torch_output = F.softmax(torch.from_numpy(torch_output[0]), dim = -1)\n",
    "trt_output_int8 = F.softmax(torch.from_numpy(trt_output_int8[0][0]), dim = -1)\n",
    "trt_output_fp16 = F.softmax(torch.from_numpy(trt_output_fp16[0][0]), dim = -1)\n",
    "trt_output_fp16_kernel = F.softmax(torch.from_numpy(trt_output_fp16_kernel[0][0]), dim = -1)"
   ]
  },
  {
   "cell_type": "code",
   "execution_count": 7,
   "metadata": {},
   "outputs": [
    {
     "name": "stdout",
     "output_type": "stream",
     "text": [
      "TRT int8模式,信息损失为 tensor(7.0538)\n"
     ]
    }
   ],
   "source": [
    "kl_int8 = kl_div(torch_output, trt_output_int8)\n",
    "print(\"TRT int8模式,信息损失为\",kl_int8.sum())"
   ]
  },
  {
   "cell_type": "code",
   "execution_count": 6,
   "metadata": {},
   "outputs": [
    {
     "name": "stdout",
     "output_type": "stream",
     "text": [
      "TRT int8模式,信息损失为 tensor(0.0002)\n"
     ]
    }
   ],
   "source": [
    "kl_fp16 = kl_div(torch_output, trt_output_fp16)\n",
    "print(\"TRT fp16模式,信息损失为\",kl_fp16.sum())"
   ]
  },
  {
   "cell_type": "code",
   "execution_count": 19,
   "metadata": {},
   "outputs": [
    {
     "name": "stdout",
     "output_type": "stream",
     "text": [
      "TRT fp16 kernel(也为fp16)模式,信息损失为 tensor(10.2807)\n"
     ]
    }
   ],
   "source": [
    "kl_fp16_kernel = kl_div(torch_output, trt_output_fp16_kernel)\n",
    "print(\"TRT fp16 kernel(也为fp16)模式,信息损失为\",kl_fp16_kernel.sum())"
   ]
  }
 ],
 "metadata": {
  "kernelspec": {
   "display_name": "Python 3",
   "language": "python",
   "name": "python3"
  },
  "language_info": {
   "codemirror_mode": {
    "name": "ipython",
    "version": 3
   },
   "file_extension": ".py",
   "mimetype": "text/x-python",
   "name": "python",
   "nbconvert_exporter": "python",
   "pygments_lexer": "ipython3",
   "version": "3.8.10"
  }
 },
 "nbformat": 4,
 "nbformat_minor": 2
}
